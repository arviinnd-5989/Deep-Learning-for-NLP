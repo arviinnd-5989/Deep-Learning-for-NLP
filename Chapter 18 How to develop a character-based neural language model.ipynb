{
 "cells": [
  {
   "cell_type": "code",
   "execution_count": 1,
   "metadata": {},
   "outputs": [],
   "source": [
    "def load_doc(filename):\n",
    "    file  = open(filename, 'r')\n",
    "    text = file.read()\n",
    "    file.close()\n",
    "    return text"
   ]
  },
  {
   "cell_type": "code",
   "execution_count": 2,
   "metadata": {},
   "outputs": [
    {
     "name": "stdout",
     "output_type": "stream",
     "text": [
      "Sing a song of sixpence,\n",
      "A pocket full of rye.\n",
      "Four and twenty blackbirds,\n",
      "Baked in a pie.\n",
      "\n",
      "When the pie was opened\n",
      "The birds began to sing;\n",
      "Wasn ' t that a dainty dish,\n",
      "To set before the king.\n",
      "\n",
      "The king was in his counting house,\n",
      "Counting out his money;\n",
      "The queen was in the parlour,\n",
      "Eating bread and honey.\n",
      "\n",
      "The maid was in the garden,\n",
      "Hanging out the clothes,\n",
      "When down came a blackbird\n",
      "And pecked off her nose.\n",
      "\n"
     ]
    }
   ],
   "source": [
    "raw_text = load_doc('rhyme.txt')\n",
    "print(raw_text)"
   ]
  },
  {
   "cell_type": "code",
   "execution_count": 3,
   "metadata": {},
   "outputs": [],
   "source": [
    "tokens = raw_text.split()\n",
    "raw_text = ' '.join(tokens)"
   ]
  },
  {
   "cell_type": "code",
   "execution_count": 4,
   "metadata": {},
   "outputs": [],
   "source": [
    "# Create sequences"
   ]
  },
  {
   "cell_type": "code",
   "execution_count": 5,
   "metadata": {},
   "outputs": [
    {
     "name": "stdout",
     "output_type": "stream",
     "text": [
      "Total Sequences: 401\n"
     ]
    }
   ],
   "source": [
    "length = 10\n",
    "sequences = list()\n",
    "for i in range(length, len(raw_text)):\n",
    "    seq = raw_text[i-length:i+1]\n",
    "    sequences.append(seq)\n",
    "print(\"Total Sequences: %d\"%len(sequences))"
   ]
  },
  {
   "cell_type": "code",
   "execution_count": 6,
   "metadata": {},
   "outputs": [],
   "source": [
    "# Save sequences"
   ]
  },
  {
   "cell_type": "code",
   "execution_count": 7,
   "metadata": {},
   "outputs": [],
   "source": [
    "def save_doc(lines, filename):\n",
    "    data = '\\n'.join(lines)\n",
    "    file = open(filename, 'w')\n",
    "    file.write(data)\n",
    "    file.close()"
   ]
  },
  {
   "cell_type": "code",
   "execution_count": 8,
   "metadata": {},
   "outputs": [],
   "source": [
    "out_filename = 'char_sequences.txt'\n",
    "save_doc(sequences, out_filename)"
   ]
  },
  {
   "cell_type": "code",
   "execution_count": 9,
   "metadata": {},
   "outputs": [],
   "source": [
    "# Load data"
   ]
  },
  {
   "cell_type": "code",
   "execution_count": 10,
   "metadata": {},
   "outputs": [],
   "source": [
    "in_filename = \"char_sequences.txt\"\n",
    "raw_text = load_doc(in_filename)\n",
    "lines = raw_text.split('\\n')"
   ]
  },
  {
   "cell_type": "code",
   "execution_count": 11,
   "metadata": {},
   "outputs": [],
   "source": [
    "# Encode sequences"
   ]
  },
  {
   "cell_type": "code",
   "execution_count": 12,
   "metadata": {},
   "outputs": [],
   "source": [
    "chars = sorted(list(set(raw_text)))\n",
    "mapping = dict((c,i) for i,c in enumerate(chars))"
   ]
  },
  {
   "cell_type": "code",
   "execution_count": 13,
   "metadata": {},
   "outputs": [],
   "source": [
    "sequences = list()\n",
    "for line in lines:\n",
    "    encoded_seq = [mapping[char] for char in line]\n",
    "    sequences.append(encoded_seq)"
   ]
  },
  {
   "cell_type": "code",
   "execution_count": 14,
   "metadata": {},
   "outputs": [
    {
     "name": "stdout",
     "output_type": "stream",
     "text": [
      "Vocabulary Size: 38\n"
     ]
    }
   ],
   "source": [
    "vocab_size = len(mapping)\n",
    "print('Vocabulary Size: %d'%vocab_size)"
   ]
  },
  {
   "cell_type": "code",
   "execution_count": 17,
   "metadata": {},
   "outputs": [],
   "source": [
    "from numpy import array\n",
    "sequences = array(sequences)\n",
    "X, y = sequences[:, :-1], sequences[:,-1]"
   ]
  },
  {
   "cell_type": "code",
   "execution_count": 18,
   "metadata": {},
   "outputs": [
    {
     "name": "stderr",
     "output_type": "stream",
     "text": [
      "Using TensorFlow backend.\n"
     ]
    }
   ],
   "source": [
    "from keras.utils import to_categorical"
   ]
  },
  {
   "cell_type": "code",
   "execution_count": 19,
   "metadata": {},
   "outputs": [],
   "source": [
    "sequences = [to_categorical(x, num_classes=vocab_size) for x in X]\n",
    "X = array(sequences)\n",
    "y = to_categorical(y, num_classes=vocab_size)"
   ]
  },
  {
   "cell_type": "code",
   "execution_count": 21,
   "metadata": {},
   "outputs": [],
   "source": [
    "from keras.utils.vis_utils import plot_model\n",
    "from keras.models import Sequential\n",
    "from keras.layers import Dense\n",
    "from keras.layers import LSTM\n",
    "def define_model(X):\n",
    "    model = Sequential()\n",
    "    model.add(LSTM(75, input_shape=(X.shape[1],X.shape[2])))\n",
    "    model.add(Dense(vocab_size, activation=\"softmax\"))\n",
    "    model.compile(loss=\"categorical_crossentropy\", optimizer = \"adam\", metrics = [\"accuracy\"])\n",
    "    model.summary()\n",
    "    plot_model(model, to_file=\"model.png\", show_shapes=True)\n",
    "    return model"
   ]
  },
  {
   "cell_type": "code",
   "execution_count": 22,
   "metadata": {},
   "outputs": [
    {
     "name": "stderr",
     "output_type": "stream",
     "text": [
      "WARNING: Logging before flag parsing goes to stderr.\n",
      "W0505 10:48:48.102274 139830229423936 deprecation.py:506] From /home/arvind/.local/lib/python3.6/site-packages/tensorflow_core/python/ops/resource_variable_ops.py:1633: calling BaseResourceVariable.__init__ (from tensorflow.python.ops.resource_variable_ops) with constraint is deprecated and will be removed in a future version.\n",
      "Instructions for updating:\n",
      "If using Keras pass *_constraint arguments to layers.\n"
     ]
    },
    {
     "name": "stdout",
     "output_type": "stream",
     "text": [
      "Model: \"sequential_1\"\n",
      "_________________________________________________________________\n",
      "Layer (type)                 Output Shape              Param #   \n",
      "=================================================================\n",
      "lstm_1 (LSTM)                (None, 75)                34200     \n",
      "_________________________________________________________________\n",
      "dense_1 (Dense)              (None, 38)                2888      \n",
      "=================================================================\n",
      "Total params: 37,088\n",
      "Trainable params: 37,088\n",
      "Non-trainable params: 0\n",
      "_________________________________________________________________\n"
     ]
    }
   ],
   "source": [
    "model = define_model(X)"
   ]
  },
  {
   "cell_type": "code",
   "execution_count": 23,
   "metadata": {},
   "outputs": [
    {
     "name": "stderr",
     "output_type": "stream",
     "text": [
      "W0505 10:49:42.421247 139830229423936 deprecation.py:323] From /home/arvind/.local/lib/python3.6/site-packages/keras/optimizers.py:550: BaseResourceVariable.constraint (from tensorflow.python.ops.resource_variable_ops) is deprecated and will be removed in a future version.\n",
      "Instructions for updating:\n",
      "Apply a constraint manually following the optimizer update step.\n",
      "W0505 10:49:42.635986 139830229423936 module_wrapper.py:136] From /home/arvind/.local/lib/python3.6/site-packages/tensorflow_core/python/util/module_wrapper.py:163: The name tf.global_variables is deprecated. Please use tf.compat.v1.global_variables instead.\n",
      "\n"
     ]
    },
    {
     "name": "stdout",
     "output_type": "stream",
     "text": [
      "Epoch 1/100\n",
      " - 1s - loss: 3.6124 - accuracy: 0.0823\n",
      "Epoch 2/100\n",
      " - 0s - loss: 3.4857 - accuracy: 0.1920\n",
      "Epoch 3/100\n",
      " - 0s - loss: 3.1723 - accuracy: 0.1945\n",
      "Epoch 4/100\n",
      " - 0s - loss: 3.0322 - accuracy: 0.1945\n",
      "Epoch 5/100\n",
      " - 0s - loss: 2.9988 - accuracy: 0.1945\n",
      "Epoch 6/100\n",
      " - 0s - loss: 2.9813 - accuracy: 0.1945\n",
      "Epoch 7/100\n",
      " - 0s - loss: 2.9669 - accuracy: 0.1945\n",
      "Epoch 8/100\n",
      " - 0s - loss: 2.9524 - accuracy: 0.1945\n",
      "Epoch 9/100\n",
      " - 0s - loss: 2.9408 - accuracy: 0.1945\n",
      "Epoch 10/100\n",
      " - 0s - loss: 2.9203 - accuracy: 0.1945\n",
      "Epoch 11/100\n",
      " - 0s - loss: 2.9039 - accuracy: 0.1945\n",
      "Epoch 12/100\n",
      " - 0s - loss: 2.8825 - accuracy: 0.1945\n",
      "Epoch 13/100\n",
      " - 0s - loss: 2.8570 - accuracy: 0.1945\n",
      "Epoch 14/100\n",
      " - 0s - loss: 2.8332 - accuracy: 0.1945\n",
      "Epoch 15/100\n",
      " - 0s - loss: 2.8101 - accuracy: 0.1970\n",
      "Epoch 16/100\n",
      " - 0s - loss: 2.7798 - accuracy: 0.2170\n",
      "Epoch 17/100\n",
      " - 0s - loss: 2.7520 - accuracy: 0.2195\n",
      "Epoch 18/100\n",
      " - 0s - loss: 2.7090 - accuracy: 0.2195\n",
      "Epoch 19/100\n",
      " - 0s - loss: 2.6775 - accuracy: 0.2394\n",
      "Epoch 20/100\n",
      " - 0s - loss: 2.6302 - accuracy: 0.2319\n",
      "Epoch 21/100\n",
      " - 0s - loss: 2.6044 - accuracy: 0.2943\n",
      "Epoch 22/100\n",
      " - 0s - loss: 2.5682 - accuracy: 0.2444\n",
      "Epoch 23/100\n",
      " - 0s - loss: 2.5263 - accuracy: 0.3042\n",
      "Epoch 24/100\n",
      " - 0s - loss: 2.4772 - accuracy: 0.3017\n",
      "Epoch 25/100\n",
      " - 0s - loss: 2.4419 - accuracy: 0.3167\n",
      "Epoch 26/100\n",
      " - 0s - loss: 2.3927 - accuracy: 0.3267\n",
      "Epoch 27/100\n",
      " - 0s - loss: 2.3637 - accuracy: 0.3591\n",
      "Epoch 28/100\n",
      " - 0s - loss: 2.3298 - accuracy: 0.3367\n",
      "Epoch 29/100\n",
      " - 0s - loss: 2.2801 - accuracy: 0.3666\n",
      "Epoch 30/100\n",
      " - 0s - loss: 2.2555 - accuracy: 0.3766\n",
      "Epoch 31/100\n",
      " - 0s - loss: 2.1984 - accuracy: 0.3766\n",
      "Epoch 32/100\n",
      " - 0s - loss: 2.1528 - accuracy: 0.3766\n",
      "Epoch 33/100\n",
      " - 0s - loss: 2.0928 - accuracy: 0.3890\n",
      "Epoch 34/100\n",
      " - 0s - loss: 2.0925 - accuracy: 0.4065\n",
      "Epoch 35/100\n",
      " - 0s - loss: 2.0521 - accuracy: 0.4190\n",
      "Epoch 36/100\n",
      " - 0s - loss: 1.9670 - accuracy: 0.4439\n",
      "Epoch 37/100\n",
      " - 0s - loss: 1.9383 - accuracy: 0.4564\n",
      "Epoch 38/100\n",
      " - 0s - loss: 1.9015 - accuracy: 0.4638\n",
      "Epoch 39/100\n",
      " - 0s - loss: 1.8691 - accuracy: 0.4963\n",
      "Epoch 40/100\n",
      " - 0s - loss: 1.8068 - accuracy: 0.4938\n",
      "Epoch 41/100\n",
      " - 0s - loss: 1.7723 - accuracy: 0.5062\n",
      "Epoch 42/100\n",
      " - 0s - loss: 1.7374 - accuracy: 0.5012\n",
      "Epoch 43/100\n",
      " - 0s - loss: 1.6832 - accuracy: 0.5262\n",
      "Epoch 44/100\n",
      " - 0s - loss: 1.6968 - accuracy: 0.5287\n",
      "Epoch 45/100\n",
      " - 0s - loss: 1.6427 - accuracy: 0.5411\n",
      "Epoch 46/100\n",
      " - 0s - loss: 1.5709 - accuracy: 0.5661\n",
      "Epoch 47/100\n",
      " - 0s - loss: 1.5415 - accuracy: 0.5761\n",
      "Epoch 48/100\n",
      " - 0s - loss: 1.4965 - accuracy: 0.6110\n",
      "Epoch 49/100\n",
      " - 0s - loss: 1.4545 - accuracy: 0.6110\n",
      "Epoch 50/100\n",
      " - 0s - loss: 1.4400 - accuracy: 0.6284\n",
      "Epoch 51/100\n",
      " - 0s - loss: 1.4001 - accuracy: 0.6509\n",
      "Epoch 52/100\n",
      " - 0s - loss: 1.3637 - accuracy: 0.6559\n",
      "Epoch 53/100\n",
      " - 0s - loss: 1.3140 - accuracy: 0.6833\n",
      "Epoch 54/100\n",
      " - 0s - loss: 1.2857 - accuracy: 0.6783\n",
      "Epoch 55/100\n",
      " - 0s - loss: 1.2415 - accuracy: 0.7007\n",
      "Epoch 56/100\n",
      " - 0s - loss: 1.2031 - accuracy: 0.7282\n",
      "Epoch 57/100\n",
      " - 0s - loss: 1.1581 - accuracy: 0.7456\n",
      "Epoch 58/100\n",
      " - 0s - loss: 1.1469 - accuracy: 0.7581\n",
      "Epoch 59/100\n",
      " - 0s - loss: 1.0891 - accuracy: 0.7830\n",
      "Epoch 60/100\n",
      " - 0s - loss: 1.0844 - accuracy: 0.7606\n",
      "Epoch 61/100\n",
      " - 0s - loss: 1.0590 - accuracy: 0.7731\n",
      "Epoch 62/100\n",
      " - 0s - loss: 1.0466 - accuracy: 0.7606\n",
      "Epoch 63/100\n",
      " - 0s - loss: 0.9743 - accuracy: 0.8055\n",
      "Epoch 64/100\n",
      " - 0s - loss: 0.9427 - accuracy: 0.8254\n",
      "Epoch 65/100\n",
      " - 0s - loss: 0.8975 - accuracy: 0.8329\n",
      "Epoch 66/100\n",
      " - 0s - loss: 0.8675 - accuracy: 0.8354\n",
      "Epoch 67/100\n",
      " - 0s - loss: 0.8450 - accuracy: 0.8554\n",
      "Epoch 68/100\n",
      " - 0s - loss: 0.8055 - accuracy: 0.8753\n",
      "Epoch 69/100\n",
      " - 0s - loss: 0.7800 - accuracy: 0.8753\n",
      "Epoch 70/100\n",
      " - 0s - loss: 0.7712 - accuracy: 0.8703\n",
      "Epoch 71/100\n",
      " - 0s - loss: 0.7482 - accuracy: 0.9002\n",
      "Epoch 72/100\n",
      " - 0s - loss: 0.7110 - accuracy: 0.8928\n",
      "Epoch 73/100\n",
      " - 0s - loss: 0.6925 - accuracy: 0.9002\n",
      "Epoch 74/100\n",
      " - 0s - loss: 0.6603 - accuracy: 0.9327\n",
      "Epoch 75/100\n",
      " - 0s - loss: 0.6361 - accuracy: 0.9152\n",
      "Epoch 76/100\n",
      " - 0s - loss: 0.6075 - accuracy: 0.9352\n",
      "Epoch 77/100\n",
      " - 0s - loss: 0.5713 - accuracy: 0.9401\n",
      "Epoch 78/100\n",
      " - 0s - loss: 0.5533 - accuracy: 0.9401\n",
      "Epoch 79/100\n",
      " - 0s - loss: 0.5407 - accuracy: 0.9476\n",
      "Epoch 80/100\n",
      " - 0s - loss: 0.5135 - accuracy: 0.9551\n",
      "Epoch 81/100\n",
      " - 0s - loss: 0.4851 - accuracy: 0.9576\n",
      "Epoch 82/100\n",
      " - 0s - loss: 0.4740 - accuracy: 0.9576\n",
      "Epoch 83/100\n",
      " - 0s - loss: 0.4471 - accuracy: 0.9651\n",
      "Epoch 84/100\n",
      " - 0s - loss: 0.4303 - accuracy: 0.9676\n",
      "Epoch 85/100\n",
      " - 0s - loss: 0.4219 - accuracy: 0.9751\n",
      "Epoch 86/100\n",
      " - 0s - loss: 0.3932 - accuracy: 0.9726\n",
      "Epoch 87/100\n",
      " - 0s - loss: 0.3790 - accuracy: 0.9751\n",
      "Epoch 88/100\n",
      " - 0s - loss: 0.3698 - accuracy: 0.9776\n",
      "Epoch 89/100\n",
      " - 0s - loss: 0.3540 - accuracy: 0.9800\n",
      "Epoch 90/100\n",
      " - 0s - loss: 0.3391 - accuracy: 0.9800\n",
      "Epoch 91/100\n",
      " - 0s - loss: 0.3266 - accuracy: 0.9850\n",
      "Epoch 92/100\n",
      " - 0s - loss: 0.3093 - accuracy: 0.9875\n",
      "Epoch 93/100\n",
      " - 0s - loss: 0.3014 - accuracy: 0.9825\n",
      "Epoch 94/100\n",
      " - 0s - loss: 0.2839 - accuracy: 0.9800\n",
      "Epoch 95/100\n",
      " - 0s - loss: 0.2738 - accuracy: 0.9875\n",
      "Epoch 96/100\n",
      " - 0s - loss: 0.2715 - accuracy: 0.9850\n",
      "Epoch 97/100\n",
      " - 0s - loss: 0.2575 - accuracy: 0.9900\n",
      "Epoch 98/100\n",
      " - 0s - loss: 0.2441 - accuracy: 0.9900\n",
      "Epoch 99/100\n",
      " - 0s - loss: 0.2294 - accuracy: 0.9925\n",
      "Epoch 100/100\n",
      " - 0s - loss: 0.2247 - accuracy: 0.9875\n"
     ]
    },
    {
     "data": {
      "text/plain": [
       "<keras.callbacks.callbacks.History at 0x7f2c6c9aeef0>"
      ]
     },
     "execution_count": 23,
     "metadata": {},
     "output_type": "execute_result"
    }
   ],
   "source": [
    "model.fit(X,y,epochs=100, verbose=2)"
   ]
  },
  {
   "cell_type": "code",
   "execution_count": 24,
   "metadata": {},
   "outputs": [],
   "source": [
    "model.save('model.h5')"
   ]
  },
  {
   "cell_type": "code",
   "execution_count": 25,
   "metadata": {},
   "outputs": [],
   "source": [
    "from pickle import dump\n",
    "dump(mapping,open('mapping.pkl','wb'))"
   ]
  },
  {
   "cell_type": "code",
   "execution_count": 26,
   "metadata": {},
   "outputs": [],
   "source": [
    "# Generate text"
   ]
  },
  {
   "cell_type": "code",
   "execution_count": 28,
   "metadata": {},
   "outputs": [],
   "source": [
    "from pickle import load\n",
    "from keras.models import load_model\n",
    "from keras.preprocessing.sequence import pad_sequences"
   ]
  },
  {
   "cell_type": "code",
   "execution_count": 29,
   "metadata": {},
   "outputs": [],
   "source": [
    "model = load_model('model.h5')"
   ]
  },
  {
   "cell_type": "code",
   "execution_count": 30,
   "metadata": {},
   "outputs": [],
   "source": [
    "mapping = load(open('mapping.pkl','rb'))"
   ]
  },
  {
   "cell_type": "code",
   "execution_count": 49,
   "metadata": {},
   "outputs": [],
   "source": [
    "def generate_seq(model, mapping, seq_length, seed_text, n_chars):\n",
    "    in_text = seed_text\n",
    "    for _ in range(n_chars):\n",
    "        encoded = [mapping[char] for char in in_text]\n",
    "        \n",
    "        encoded = pad_sequences([encoded], maxlen = seq_length, truncating='pre')\n",
    "        \n",
    "        encoded = to_categorical(encoded, num_classes=len(mapping))\n",
    "        encoded = encoded.reshape(1,encoded.shape[1], encoded.shape[2])\n",
    "        yhat = model.predict_classes(encoded, verbose=0)\n",
    "        \n",
    "        out_char = ''\n",
    "        for char,index in mapping.items():\n",
    "            if index == yhat:\n",
    "                out_char = char\n",
    "                break\n",
    "        \n",
    "        in_text += char\n",
    "    \n",
    "    return in_text"
   ]
  },
  {
   "cell_type": "code",
   "execution_count": 50,
   "metadata": {},
   "outputs": [
    {
     "name": "stdout",
     "output_type": "stream",
     "text": [
      "Sing a song of sixpence, A poc\n"
     ]
    }
   ],
   "source": [
    "print(generate_seq(model, mapping, 10, 'Sing a son', 20))"
   ]
  },
  {
   "cell_type": "code",
   "execution_count": 52,
   "metadata": {},
   "outputs": [
    {
     "name": "stdout",
     "output_type": "stream",
     "text": [
      "king was in his counting house\n"
     ]
    }
   ],
   "source": [
    "print(generate_seq(model, mapping, 10, 'king was i', 20))"
   ]
  },
  {
   "cell_type": "code",
   "execution_count": 53,
   "metadata": {},
   "outputs": [
    {
     "name": "stdout",
     "output_type": "stream",
     "text": [
      "hello worlse Wha int ppeedolof\n"
     ]
    }
   ],
   "source": [
    "print(generate_seq(model, mapping, 10, 'hello worl', 20))"
   ]
  },
  {
   "cell_type": "code",
   "execution_count": null,
   "metadata": {},
   "outputs": [],
   "source": []
  }
 ],
 "metadata": {
  "kernelspec": {
   "display_name": "Python 3",
   "language": "python",
   "name": "python3"
  },
  "language_info": {
   "codemirror_mode": {
    "name": "ipython",
    "version": 3
   },
   "file_extension": ".py",
   "mimetype": "text/x-python",
   "name": "python",
   "nbconvert_exporter": "python",
   "pygments_lexer": "ipython3",
   "version": "3.6.8"
  }
 },
 "nbformat": 4,
 "nbformat_minor": 2
}
